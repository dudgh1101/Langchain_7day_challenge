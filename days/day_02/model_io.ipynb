{
 "cells": [
  {
   "cell_type": "markdown",
   "id": "24290aff",
   "metadata": {},
   "source": [
    "# Introduction\n",
    "Python의 Model I/O에 대해 학습함\n",
    "\n",
    "# FewShotPromptTemplate"
   ]
  },
  {
   "cell_type": "code",
   "execution_count": 1,
   "id": "7fe32c73",
   "metadata": {},
   "outputs": [
    {
     "name": "stderr",
     "output_type": "stream",
     "text": [
      "C:\\Users\\82102\\AppData\\Local\\Temp\\ipykernel_19752\\634784058.py:6: LangChainDeprecationWarning: The class `ChatOpenAI` was deprecated in LangChain 0.0.10 and will be removed in 1.0. An updated version of the class exists in the :class:`~langchain-openai package and should be used instead. To use it run `pip install -U :class:`~langchain-openai` and import as `from :class:`~langchain_openai import ChatOpenAI``.\n",
      "  chat = ChatOpenAI(\n"
     ]
    }
   ],
   "source": [
    "from langchain.chat_models import ChatOpenAI\n",
    "from langchain.prompts.few_shot import FewShotPromptTemplate\n",
    "from langchain.callbacks import StreamingStdOutCallbackHandler\n",
    "from langchain.prompts import PromptTemplate\n",
    "\n",
    "chat = ChatOpenAI(\n",
    "  model=\"gpt-4o-mini\",\n",
    "  temperature=0.1,\n",
    "  streaming=True,\n",
    "  callbacks=[\n",
    "    StreamingStdOutCallbackHandler()\n",
    "    ],\n",
    ")\n",
    "\n",
    "examples = [\n",
    "    {\n",
    "        \"question\": \"What do you know about France?\",\n",
    "        \"answer\": \"\"\"\n",
    "        Here is what I know:\n",
    "        Capital: Paris\n",
    "        Language: French\n",
    "        Food: Wine and Cheese\n",
    "        Currency: Euro\n",
    "        \"\"\",\n",
    "    },\n",
    "    {\n",
    "        \"question\": \"What do you know about Italy?\",\n",
    "        \"answer\": \"\"\"\n",
    "        I know this:\n",
    "        Capital: Rome\n",
    "        Language: Italian\n",
    "        Food: Pizza and Pasta\n",
    "        Currency: Euro\n",
    "        \"\"\",\n",
    "    },\n",
    "    {\n",
    "        \"question\": \"What do you know about Greece?\",\n",
    "        \"answer\": \"\"\"\n",
    "        I know this:\n",
    "        Capital: Athens\n",
    "        Language: Greek\n",
    "        Food: Souvlaki and Feta Cheese\n",
    "        Currency: Euro\n",
    "        \"\"\",\n",
    "    },\n",
    "]"
   ]
  },
  {
   "cell_type": "code",
   "execution_count": 2,
   "id": "79c923cf",
   "metadata": {},
   "outputs": [
    {
     "data": {
      "text/plain": [
       "PromptTemplate(input_variables=['answer', 'question'], input_types={}, partial_variables={}, template='Human: {question}\\nAI:{answer}')"
      ]
     },
     "execution_count": 2,
     "metadata": {},
     "output_type": "execute_result"
    }
   ],
   "source": [
    "example_prompt = PromptTemplate.from_template(\"Human: {question}\\nAI:{answer}\")\n",
    "\n",
    "example_prompt"
   ]
  },
  {
   "cell_type": "code",
   "execution_count": 6,
   "id": "fe7476e0",
   "metadata": {},
   "outputs": [],
   "source": [
    "prompt = FewShotPromptTemplate(\n",
    "    examples=examples, \n",
    "    example_prompt=example_prompt,\n",
    "    suffix=\"Human: What do you know about {country}?\",\n",
    "    input_variables=[\"country\"],\n",
    ")\n",
    "\n",
    "# prompt"
   ]
  },
  {
   "cell_type": "code",
   "execution_count": 7,
   "id": "3ab49251",
   "metadata": {},
   "outputs": [
    {
     "name": "stdout",
     "output_type": "stream",
     "text": [
      "AI:  \n",
      "I know this:  \n",
      "Capital: Madrid  \n",
      "Language: Spanish  \n",
      "Food: Paella and Tapas  \n",
      "Currency: Euro  "
     ]
    },
    {
     "data": {
      "text/plain": [
       "AIMessage(content='AI:  \\nI know this:  \\nCapital: Madrid  \\nLanguage: Spanish  \\nFood: Paella and Tapas  \\nCurrency: Euro  ', additional_kwargs={}, response_metadata={'finish_reason': 'stop'}, id='run--33c1ebbf-8792-4d77-8681-f196d4a8995d-0')"
      ]
     },
     "execution_count": 7,
     "metadata": {},
     "output_type": "execute_result"
    }
   ],
   "source": [
    "chain = prompt | chat\n",
    "\n",
    "chain.invoke({\"country\": \"Spain\"})"
   ]
  },
  {
   "cell_type": "markdown",
   "id": "d54c1676",
   "metadata": {},
   "source": [
    "# FewShotChatMessagePromptTemplate\n"
   ]
  },
  {
   "cell_type": "code",
   "execution_count": 9,
   "id": "f1e0a6b6",
   "metadata": {},
   "outputs": [],
   "source": [
    "from langchain.chat_models import ChatOpenAI\n",
    "from langchain.prompts.few_shot import FewShotChatMessagePromptTemplate\n",
    "from langchain.callbacks import StreamingStdOutCallbackHandler\n",
    "from langchain.prompts import ChatPromptTemplate, ChatMessagePromptTemplate\n",
    "\n",
    "chat = ChatOpenAI(\n",
    "  model=\"gpt-4o-mini\",\n",
    "  temperature=0.1,\n",
    "  streaming=True,\n",
    "  callbacks=[\n",
    "    StreamingStdOutCallbackHandler()\n",
    "    ],\n",
    ")\n",
    "\n",
    "examples = [\n",
    "    {\n",
    "        \"country\": \"France\",\n",
    "        \"answer\": \"\"\"\n",
    "        Here is what I know:\n",
    "        Capital: Paris\n",
    "        Language: French\n",
    "        Food: Wine and Cheese\n",
    "        Currency: Euro\n",
    "        \"\"\",\n",
    "    },\n",
    "    {\n",
    "        \"country\": \"Italy\",\n",
    "        \"answer\": \"\"\"\n",
    "        I know this:\n",
    "        Capital: Rome\n",
    "        Language: Italian\n",
    "        Food: Pizza and Pasta\n",
    "        Currency: Euro\n",
    "        \"\"\",\n",
    "    },\n",
    "    {\n",
    "        \"country\": \"Greece\",\n",
    "        \"answer\": \"\"\"\n",
    "        I know this:\n",
    "        Capital: Athens\n",
    "        Language: Greek\n",
    "        Food: Souvlaki and Feta Cheese\n",
    "        Currency: Euro\n",
    "        \"\"\",\n",
    "    },\n",
    "]"
   ]
  },
  {
   "cell_type": "code",
   "execution_count": 10,
   "id": "0d5ffc59",
   "metadata": {},
   "outputs": [],
   "source": [
    "example_prompt = ChatPromptTemplate.from_messages(\n",
    "  [\n",
    "    (\"human\", \"what do you know about {country}?\"),\n",
    "    (\"ai\", \"{answer}\"),\n",
    "  ]\n",
    ")\n",
    "\n",
    "example_prompt = FewShotChatMessagePromptTemplate(\n",
    "  example_prompt=example_prompt,\n",
    "  examples=examples,\n",
    ")\n",
    "\n",
    "final_prompt = ChatPromptTemplate.from_messages(\n",
    "  [\n",
    "    (\"system\", \"You are a geography expert, you give short answers.\"),\n",
    "    example_prompt,\n",
    "    (\"human\", \"What do you kjnow about {country}?\")\n",
    "  ]\n",
    ")"
   ]
  },
  {
   "cell_type": "code",
   "execution_count": 11,
   "id": "06293be9",
   "metadata": {},
   "outputs": [
    {
     "name": "stdout",
     "output_type": "stream",
     "text": [
      "\n",
      "        I know this:\n",
      "        Divided into two countries: South Korea and North Korea\n",
      "        Capital of South Korea: Seoul\n",
      "        Capital of North Korea: Pyongyang\n",
      "        Language: Korean\n",
      "        Currency (South Korea): South Korean Won\n",
      "        Currency (North Korea): North Korean Won\n",
      "        "
     ]
    },
    {
     "data": {
      "text/plain": [
       "AIMessage(content='\\n        I know this:\\n        Divided into two countries: South Korea and North Korea\\n        Capital of South Korea: Seoul\\n        Capital of North Korea: Pyongyang\\n        Language: Korean\\n        Currency (South Korea): South Korean Won\\n        Currency (North Korea): North Korean Won\\n        ', additional_kwargs={}, response_metadata={'finish_reason': 'stop'}, id='run--5f4bbfab-caef-4e5f-9187-a0d461814177-0')"
      ]
     },
     "execution_count": 11,
     "metadata": {},
     "output_type": "execute_result"
    }
   ],
   "source": [
    "chain= final_prompt | chat\n",
    "\n",
    "chain.invoke(\n",
    "  {\n",
    "    \"country\" : \"Korea\"\n",
    "  }\n",
    ")"
   ]
  },
  {
   "cell_type": "markdown",
   "id": "ff2b9436",
   "metadata": {},
   "source": [
    "# LengthBasedExampleSelector"
   ]
  },
  {
   "cell_type": "code",
   "execution_count": 12,
   "id": "279bd5a9",
   "metadata": {},
   "outputs": [],
   "source": [
    "from langchain.chat_models import ChatOpenAI\n",
    "from langchain.prompts.few_shot import FewShotPromptTemplate\n",
    "from langchain.callbacks import StreamingStdOutCallbackHandler\n",
    "from langchain.prompts import PromptTemplate\n",
    "from langchain.prompts.example_selector import LengthBasedExampleSelector\n",
    "\n",
    "chat = ChatOpenAI(\n",
    "  model=\"gpt-4o-mini\",\n",
    "  temperature=0.1,\n",
    "  streaming=True,\n",
    "  callbacks=[\n",
    "    StreamingStdOutCallbackHandler()\n",
    "    ],\n",
    ")\n",
    "\n",
    "examples = [\n",
    "    {\n",
    "        \"question\": \"What do you know about France?\",\n",
    "        \"answer\": \"\"\"\n",
    "        Here is what I know:\n",
    "        Capital: Paris\n",
    "        Language: French\n",
    "        Food: Wine and Cheese\n",
    "        Currency: Euro\n",
    "        \"\"\",\n",
    "    },\n",
    "    {\n",
    "        \"question\": \"What do you know about Italy?\",\n",
    "        \"answer\": \"\"\"\n",
    "        I know this:\n",
    "        Capital: Rome\n",
    "        Language: Italian\n",
    "        Food: Pizza and Pasta\n",
    "        Currency: Euro\n",
    "        \"\"\",\n",
    "    },\n",
    "    {\n",
    "        \"question\": \"What do you know about Greece?\",\n",
    "        \"answer\": \"\"\"\n",
    "        I know this:\n",
    "        Capital: Athens\n",
    "        Language: Greek\n",
    "        Food: Souvlaki and Feta Cheese\n",
    "        Currency: Euro\n",
    "        \"\"\",\n",
    "    },\n",
    "    \n",
    "]"
   ]
  },
  {
   "cell_type": "code",
   "execution_count": 13,
   "id": "c2a51de7",
   "metadata": {},
   "outputs": [],
   "source": [
    "example_prompt = PromptTemplate.from_template(\"Human: {question}\\nAI:{answer}\")\n",
    "\n",
    "example_selector = LengthBasedExampleSelector(\n",
    "  examples=examples,\n",
    "  example_prompt=example_prompt,\n",
    "  max_length=80,\n",
    ")"
   ]
  },
  {
   "cell_type": "code",
   "execution_count": 14,
   "id": "ee03c484",
   "metadata": {},
   "outputs": [
    {
     "data": {
      "text/plain": [
       "'Human: What do you know about France?\\nAI:\\n        Here is what I know:\\n        Capital: Paris\\n        Language: French\\n        Food: Wine and Cheese\\n        Currency: Euro\\n        \\n\\nHuman: What do you know about Brazil?'"
      ]
     },
     "execution_count": 14,
     "metadata": {},
     "output_type": "execute_result"
    }
   ],
   "source": [
    "prompt = FewShotPromptTemplate(\n",
    "    example_selector=example_selector,\n",
    "    example_prompt=example_prompt,\n",
    "    suffix=\"Human: What do you know about {country}?\",\n",
    "    input_variables=[\"country\"],\n",
    ")\n",
    "\n",
    "prompt.format(country=\"Brazil\")"
   ]
  },
  {
   "cell_type": "code",
   "execution_count": 15,
   "id": "6cb19f32",
   "metadata": {},
   "outputs": [
    {
     "name": "stdout",
     "output_type": "stream",
     "text": [
      "AI: Here is what I know about Spain:\n",
      "\n",
      "- **Capital**: Madrid\n",
      "- **Language**: Spanish (Castilian)\n",
      "- **Food**: Tapas, Paella, Jamón Ibérico\n",
      "- **Currency**: Euro\n",
      "- **Culture**: Known for its vibrant festivals, flamenco music and dance, and rich history.\n",
      "- **Geography**: Located in Southwestern Europe, bordered by France to the northeast and Portugal to the west. It has diverse landscapes, including beaches, mountains, and plains."
     ]
    },
    {
     "data": {
      "text/plain": [
       "AIMessage(content='AI: Here is what I know about Spain:\\n\\n- **Capital**: Madrid\\n- **Language**: Spanish (Castilian)\\n- **Food**: Tapas, Paella, Jamón Ibérico\\n- **Currency**: Euro\\n- **Culture**: Known for its vibrant festivals, flamenco music and dance, and rich history.\\n- **Geography**: Located in Southwestern Europe, bordered by France to the northeast and Portugal to the west. It has diverse landscapes, including beaches, mountains, and plains.', additional_kwargs={}, response_metadata={'finish_reason': 'stop'}, id='run--0cc92c35-cf65-4f95-97f1-fb1b1a347718-0')"
      ]
     },
     "execution_count": 15,
     "metadata": {},
     "output_type": "execute_result"
    }
   ],
   "source": [
    "chain = prompt | chat\n",
    "\n",
    "chain.invoke({\"country\": \"Spain\"})"
   ]
  },
  {
   "cell_type": "markdown",
   "id": "8570b670",
   "metadata": {},
   "source": [
    "# Random Example Selector\n"
   ]
  },
  {
   "cell_type": "code",
   "execution_count": 16,
   "id": "5b7febe5",
   "metadata": {},
   "outputs": [],
   "source": [
    "from langchain.chat_models import ChatOpenAI\n",
    "from langchain.prompts import example_selector\n",
    "from langchain.prompts.few_shot import FewShotPromptTemplate\n",
    "from langchain.callbacks import StreamingStdOutCallbackHandler\n",
    "from langchain.prompts.prompt import PromptTemplate\n",
    "from langchain.prompts.example_selector.base import BaseExampleSelector\n",
    "\n",
    "chat = ChatOpenAI(\n",
    "  model=\"gpt-4o-mini\",\n",
    "  temperature=0.1,\n",
    "  streaming=True,\n",
    "  callbacks=[\n",
    "    StreamingStdOutCallbackHandler(),\n",
    "  ]\n",
    ")\n",
    "\n",
    "examples = [\n",
    "    {\n",
    "        \"question\": \"What do you know about France?\",\n",
    "        \"answer\": \"\"\"\n",
    "        Here is what I know:\n",
    "        Capital: Paris\n",
    "        Language: French\n",
    "        Food: Wine and Cheese\n",
    "        Currency: Euro\n",
    "        \"\"\",\n",
    "    },\n",
    "    {\n",
    "        \"question\": \"What do you know about Italy?\",\n",
    "        \"answer\": \"\"\"\n",
    "        I know this:\n",
    "        Capital: Rome\n",
    "        Language: Italian\n",
    "        Food: Pizza and Pasta\n",
    "        Currency: Euro\n",
    "        \"\"\",\n",
    "    },\n",
    "    {\n",
    "        \"question\": \"What do you know about Greece?\",\n",
    "        \"answer\": \"\"\"\n",
    "        I know this:\n",
    "        Capital: Athens\n",
    "        Language: Greek\n",
    "        Food: Souvlaki and Feta Cheese\n",
    "        Currency: Euro\n",
    "        \"\"\",\n",
    "    },\n",
    "]"
   ]
  },
  {
   "cell_type": "code",
   "execution_count": 17,
   "id": "3ce7d7a6",
   "metadata": {},
   "outputs": [],
   "source": [
    "class RandomExampleSelector(BaseExampleSelector):\n",
    "  def __init__(self, examples):\n",
    "    self.examples = examples\n",
    "  \n",
    "  def add_example(self, example):\n",
    "    self.examples.append(example)\n",
    "\n",
    "  def select_examples(self, input_variables):\n",
    "    from random import choice\n",
    "\n",
    "    return [choice(self.examples)]"
   ]
  },
  {
   "cell_type": "code",
   "execution_count": 18,
   "id": "93b3c5dc",
   "metadata": {},
   "outputs": [],
   "source": [
    "example_prompt = PromptTemplate.from_template(\"Human: {question}\\nAI:{answer}\")\n",
    "\n",
    "example_selector = RandomExampleSelector(\n",
    "  examples=examples\n",
    ")"
   ]
  },
  {
   "cell_type": "code",
   "execution_count": 19,
   "id": "0129c581",
   "metadata": {},
   "outputs": [
    {
     "data": {
      "text/plain": [
       "'Human: What do you know about France?\\nAI:\\n        Here is what I know:\\n        Capital: Paris\\n        Language: French\\n        Food: Wine and Cheese\\n        Currency: Euro\\n        \\n\\nHuman: What do you know about Brazil?'"
      ]
     },
     "execution_count": 19,
     "metadata": {},
     "output_type": "execute_result"
    }
   ],
   "source": [
    "prompt = FewShotPromptTemplate(\n",
    "  example_prompt=example_prompt,\n",
    "  example_selector=example_selector,\n",
    "  suffix=\"Human: What do you know about {country}?\",\n",
    "  input_variables=[\"country\"],\n",
    ")\n",
    "\n",
    "prompt.format(country=\"Brazil\")"
   ]
  },
  {
   "cell_type": "markdown",
   "id": "ce118a84",
   "metadata": {},
   "source": [
    "# Serialization and Composition"
   ]
  },
  {
   "cell_type": "code",
   "execution_count": 21,
   "id": "31d270fa",
   "metadata": {},
   "outputs": [
    {
     "data": {
      "text/plain": [
       "'What is the capital of Germmany'"
      ]
     },
     "execution_count": 21,
     "metadata": {},
     "output_type": "execute_result"
    }
   ],
   "source": [
    "from langchain.chat_models import ChatOpenAI\n",
    "from langchain.callbacks import StreamingStdOutCallbackHandler\n",
    "from langchain.prompts import load_prompt\n",
    "\n",
    "prompt = load_prompt(\"./prompt.json\")\n",
    "# prompt = load_prompt(\"./prompt.yaml\")\n",
    "\n",
    "chat = ChatOpenAI(\n",
    "  temperature=0.1,\n",
    "  streaming=True,\n",
    "  callbacks=[\n",
    "    StreamingStdOutCallbackHandler(),\n",
    "  ],\n",
    ")\n",
    "\n",
    "prompt.format(country=\"Germmany\")"
   ]
  },
  {
   "cell_type": "code",
   "execution_count": 22,
   "id": "f878a152",
   "metadata": {},
   "outputs": [],
   "source": [
    "from langchain.chat_models import ChatOpenAI\n",
    "from langchain.callbacks import StreamingStdOutCallbackHandler\n",
    "from langchain.prompts import PromptTemplate\n",
    "from langchain.prompts.pipeline import PipelinePromptTemplate\n",
    "\n",
    "chat = ChatOpenAI(\n",
    "  model=\"gpt-4o-mini\",\n",
    "  temperature=0.1,\n",
    "  streaming=True,\n",
    "  callbacks=[\n",
    "    StreamingStdOutCallbackHandler(),\n",
    "  ]\n",
    ")"
   ]
  },
  {
   "cell_type": "code",
   "execution_count": 23,
   "id": "dad727a4",
   "metadata": {},
   "outputs": [
    {
     "name": "stderr",
     "output_type": "stream",
     "text": [
      "C:\\Users\\82102\\AppData\\Local\\Temp\\ipykernel_19752\\423968787.py:42: LangChainDeprecationWarning: This class is deprecated in favor of chaining individual prompts together.\n",
      "  full_prompt = PipelinePromptTemplate(\n"
     ]
    },
    {
     "name": "stdout",
     "output_type": "stream",
     "text": [
      "Arrrr, matey! Me favorite grub be a hearty bowl o' grog and a side o' salted fish! Nothin' like a good feast after a long day o' plunderin' the high seas! Arg arg!"
     ]
    },
    {
     "data": {
      "text/plain": [
       "AIMessage(content=\"Arrrr, matey! Me favorite grub be a hearty bowl o' grog and a side o' salted fish! Nothin' like a good feast after a long day o' plunderin' the high seas! Arg arg!\", additional_kwargs={}, response_metadata={'finish_reason': 'stop'}, id='run--13bbc185-7732-4f1e-b635-a6deb50dc1a2-0')"
      ]
     },
     "execution_count": 23,
     "metadata": {},
     "output_type": "execute_result"
    }
   ],
   "source": [
    "intro = PromptTemplate.from_template(\n",
    "  \"\"\"\n",
    "  You are a role playing assistant.\n",
    "  And you are impersonating a {character}\n",
    "  \"\"\"\n",
    ")\n",
    "\n",
    "example = PromptTemplate.from_template(\n",
    "  \"\"\"\n",
    "  this is an example of how you talk:\n",
    "\n",
    "  Human: {example_question}\n",
    "  You: {example_answer}\n",
    "  \"\"\"\n",
    ")\n",
    "\n",
    "start= PromptTemplate.from_template(\n",
    "  \"\"\"\n",
    "  Strat now!\n",
    "\n",
    "  Human: {question}\n",
    "  You:\n",
    "  \"\"\"\n",
    ")\n",
    "\n",
    "final = PromptTemplate.from_template(\n",
    "  \"\"\"\n",
    "  {intro}\n",
    "\n",
    "  {example}\n",
    "\n",
    "  {start}\n",
    "  \"\"\"\n",
    ")\n",
    "\n",
    "prompts = [\n",
    "  (\"intro\", intro),\n",
    "  (\"example\", example),\n",
    "  (\"start\", start)\n",
    "]\n",
    "\n",
    "full_prompt = PipelinePromptTemplate(\n",
    "  final_prompt=final,\n",
    "  pipeline_prompts=prompts\n",
    ")\n",
    "\n",
    "chain = full_prompt | chat\n",
    "\n",
    "chain.invoke(\n",
    "    {\n",
    "        \"character\": \"Pirate\",\n",
    "        \"example_question\": \"What is your location?\",\n",
    "        \"example_answer\": \"Arrrrg! That is a secret!! Arg arg!!\",\n",
    "        \"question\": \"What is your fav food?\",\n",
    "    }\n",
    ")"
   ]
  },
  {
   "cell_type": "markdown",
   "id": "7226b5ad",
   "metadata": {},
   "source": [
    "# Caching"
   ]
  },
  {
   "cell_type": "code",
   "execution_count": 24,
   "id": "a7458389",
   "metadata": {},
   "outputs": [
    {
     "name": "stderr",
     "output_type": "stream",
     "text": [
      "C:\\Users\\82102\\AppData\\Local\\Temp\\ipykernel_19752\\1912677993.py:20: LangChainDeprecationWarning: The method `BaseChatModel.predict` was deprecated in langchain-core 0.1.7 and will be removed in 1.0. Use :meth:`~invoke` instead.\n",
      "  chat.predict(\"How do you make italian pasta\")\n"
     ]
    },
    {
     "name": "stdout",
     "output_type": "stream",
     "text": [
      "\u001b[32;1m\u001b[1;3m[llm/start]\u001b[0m \u001b[1m[llm:ChatOpenAI] Entering LLM run with input:\n",
      "\u001b[0m{\n",
      "  \"prompts\": [\n",
      "    \"Human: How do you make italian pasta\"\n",
      "  ]\n",
      "}\n",
      "\u001b[36;1m\u001b[1;3m[llm/end]\u001b[0m \u001b[1m[llm:ChatOpenAI] [11.50s] Exiting LLM run with output:\n",
      "\u001b[0m{\n",
      "  \"generations\": [\n",
      "    [\n",
      "      {\n",
      "        \"text\": \"Making Italian pasta from scratch is a rewarding process! Here’s a simple recipe for fresh pasta:\\n\\n### Ingredients:\\n- 2 cups all-purpose flour (or \\\"00\\\" flour for a more authentic texture)\\n- 3 large eggs\\n- A pinch of salt\\n- A little water (if needed)\\n\\n### Instructions:\\n\\n#### 1. Prepare the Dough:\\n- **Make a Flour Well:** On a clean surface or in a large bowl, mound the flour and create a well in the center.\\n- **Add Eggs:** Crack the eggs into the well and add a pinch of salt.\\n- **Mix:** Using a fork, beat the eggs gently, gradually incorporating the flour from the edges of the well until the mixture is too stiff to mix with a fork.\\n\\n#### 2. Knead the Dough:\\n- **Bring Together:** Use your hands to bring the dough together into a ball.\\n- **Knead:** Knead the dough for about 8-10 minutes until it is smooth and elastic. If the dough is too dry, add a little water; if it’s too sticky, sprinkle with a bit more flour.\\n- **Rest:** Wrap the dough in plastic wrap or cover it with a clean kitchen towel and let it rest for at least 30 minutes at room temperature. This allows the gluten to relax.\\n\\n#### 3. Roll Out the Dough:\\n- **Divide:** Cut the dough into four pieces to make it easier to work with.\\n- **Flatten:** Take one piece and flatten it slightly with your hands or a rolling pin.\\n- **Roll:** Using a pasta machine or a rolling pin, roll the dough out to your desired thickness (usually about 1/16 inch for thin pasta). If using a pasta machine, start with the widest setting and gradually move to thinner settings.\\n\\n#### 4. Cut the Pasta:\\n- **Shape:** Once rolled out, you can cut the pasta into your desired shape (tagliatelle, fettuccine, lasagna sheets, etc.). Use a sharp knife or a pasta cutter for even shapes.\\n- **Dust:** Dust the cut pasta with a little flour to prevent it from sticking together.\\n\\n#### 5. Cook the Pasta:\\n- **Boil Water:** Bring a large pot of salted water to a boil.\\n- **Cook:** Add the fresh pasta and cook for 2-4 minutes, depending on the thickness. Fresh pasta cooks much faster than dried pasta.\\n- **Taste:** Taste a piece to check for doneness.\\n\\n#### 6. Serve:\\n- Drain the pasta and toss it with your favorite sauce, olive oil, or simply with butter and cheese. Enjoy your homemade Italian pasta!\\n\\n### Tips:\\n- Experiment with different types of flour, such as semolina or whole wheat, for different textures and flavors.\\n- You can also add ingredients like spinach or beet puree to the dough for colored pasta.\\n- Fresh pasta can be stored in the refrigerator for a day or two or frozen for longer storage.\\n\\nEnjoy your pasta-making adventure!\",\n",
      "        \"generation_info\": {\n",
      "          \"finish_reason\": \"stop\",\n",
      "          \"logprobs\": null\n",
      "        },\n",
      "        \"type\": \"ChatGeneration\",\n",
      "        \"message\": {\n",
      "          \"lc\": 1,\n",
      "          \"type\": \"constructor\",\n",
      "          \"id\": [\n",
      "            \"langchain\",\n",
      "            \"schema\",\n",
      "            \"messages\",\n",
      "            \"AIMessage\"\n",
      "          ],\n",
      "          \"kwargs\": {\n",
      "            \"content\": \"Making Italian pasta from scratch is a rewarding process! Here’s a simple recipe for fresh pasta:\\n\\n### Ingredients:\\n- 2 cups all-purpose flour (or \\\"00\\\" flour for a more authentic texture)\\n- 3 large eggs\\n- A pinch of salt\\n- A little water (if needed)\\n\\n### Instructions:\\n\\n#### 1. Prepare the Dough:\\n- **Make a Flour Well:** On a clean surface or in a large bowl, mound the flour and create a well in the center.\\n- **Add Eggs:** Crack the eggs into the well and add a pinch of salt.\\n- **Mix:** Using a fork, beat the eggs gently, gradually incorporating the flour from the edges of the well until the mixture is too stiff to mix with a fork.\\n\\n#### 2. Knead the Dough:\\n- **Bring Together:** Use your hands to bring the dough together into a ball.\\n- **Knead:** Knead the dough for about 8-10 minutes until it is smooth and elastic. If the dough is too dry, add a little water; if it’s too sticky, sprinkle with a bit more flour.\\n- **Rest:** Wrap the dough in plastic wrap or cover it with a clean kitchen towel and let it rest for at least 30 minutes at room temperature. This allows the gluten to relax.\\n\\n#### 3. Roll Out the Dough:\\n- **Divide:** Cut the dough into four pieces to make it easier to work with.\\n- **Flatten:** Take one piece and flatten it slightly with your hands or a rolling pin.\\n- **Roll:** Using a pasta machine or a rolling pin, roll the dough out to your desired thickness (usually about 1/16 inch for thin pasta). If using a pasta machine, start with the widest setting and gradually move to thinner settings.\\n\\n#### 4. Cut the Pasta:\\n- **Shape:** Once rolled out, you can cut the pasta into your desired shape (tagliatelle, fettuccine, lasagna sheets, etc.). Use a sharp knife or a pasta cutter for even shapes.\\n- **Dust:** Dust the cut pasta with a little flour to prevent it from sticking together.\\n\\n#### 5. Cook the Pasta:\\n- **Boil Water:** Bring a large pot of salted water to a boil.\\n- **Cook:** Add the fresh pasta and cook for 2-4 minutes, depending on the thickness. Fresh pasta cooks much faster than dried pasta.\\n- **Taste:** Taste a piece to check for doneness.\\n\\n#### 6. Serve:\\n- Drain the pasta and toss it with your favorite sauce, olive oil, or simply with butter and cheese. Enjoy your homemade Italian pasta!\\n\\n### Tips:\\n- Experiment with different types of flour, such as semolina or whole wheat, for different textures and flavors.\\n- You can also add ingredients like spinach or beet puree to the dough for colored pasta.\\n- Fresh pasta can be stored in the refrigerator for a day or two or frozen for longer storage.\\n\\nEnjoy your pasta-making adventure!\",\n",
      "            \"response_metadata\": {\n",
      "              \"token_usage\": {\n",
      "                \"completion_tokens\": 609,\n",
      "                \"prompt_tokens\": 13,\n",
      "                \"total_tokens\": 622,\n",
      "                \"completion_tokens_details\": {\n",
      "                  \"accepted_prediction_tokens\": 0,\n",
      "                  \"audio_tokens\": 0,\n",
      "                  \"reasoning_tokens\": 0,\n",
      "                  \"rejected_prediction_tokens\": 0\n",
      "                },\n",
      "                \"prompt_tokens_details\": {\n",
      "                  \"audio_tokens\": 0,\n",
      "                  \"cached_tokens\": 0\n",
      "                }\n",
      "              },\n",
      "              \"model_name\": \"gpt-4o-mini\",\n",
      "              \"system_fingerprint\": \"fp_560af6e559\",\n",
      "              \"finish_reason\": \"stop\",\n",
      "              \"logprobs\": null\n",
      "            },\n",
      "            \"type\": \"ai\",\n",
      "            \"id\": \"run--e7eea355-653b-44a0-a104-f3fb7326a1df-0\",\n",
      "            \"tool_calls\": [],\n",
      "            \"invalid_tool_calls\": []\n",
      "          }\n",
      "        }\n",
      "      }\n",
      "    ]\n",
      "  ],\n",
      "  \"llm_output\": {\n",
      "    \"token_usage\": {\n",
      "      \"completion_tokens\": 609,\n",
      "      \"prompt_tokens\": 13,\n",
      "      \"total_tokens\": 622,\n",
      "      \"completion_tokens_details\": {\n",
      "        \"accepted_prediction_tokens\": 0,\n",
      "        \"audio_tokens\": 0,\n",
      "        \"reasoning_tokens\": 0,\n",
      "        \"rejected_prediction_tokens\": 0\n",
      "      },\n",
      "      \"prompt_tokens_details\": {\n",
      "        \"audio_tokens\": 0,\n",
      "        \"cached_tokens\": 0\n",
      "      }\n",
      "    },\n",
      "    \"model_name\": \"gpt-4o-mini\",\n",
      "    \"system_fingerprint\": \"fp_560af6e559\"\n",
      "  },\n",
      "  \"run\": null,\n",
      "  \"type\": \"LLMResult\"\n",
      "}\n"
     ]
    },
    {
     "data": {
      "text/plain": [
       "'Making Italian pasta from scratch is a rewarding process! Here’s a simple recipe for fresh pasta:\\n\\n### Ingredients:\\n- 2 cups all-purpose flour (or \"00\" flour for a more authentic texture)\\n- 3 large eggs\\n- A pinch of salt\\n- A little water (if needed)\\n\\n### Instructions:\\n\\n#### 1. Prepare the Dough:\\n- **Make a Flour Well:** On a clean surface or in a large bowl, mound the flour and create a well in the center.\\n- **Add Eggs:** Crack the eggs into the well and add a pinch of salt.\\n- **Mix:** Using a fork, beat the eggs gently, gradually incorporating the flour from the edges of the well until the mixture is too stiff to mix with a fork.\\n\\n#### 2. Knead the Dough:\\n- **Bring Together:** Use your hands to bring the dough together into a ball.\\n- **Knead:** Knead the dough for about 8-10 minutes until it is smooth and elastic. If the dough is too dry, add a little water; if it’s too sticky, sprinkle with a bit more flour.\\n- **Rest:** Wrap the dough in plastic wrap or cover it with a clean kitchen towel and let it rest for at least 30 minutes at room temperature. This allows the gluten to relax.\\n\\n#### 3. Roll Out the Dough:\\n- **Divide:** Cut the dough into four pieces to make it easier to work with.\\n- **Flatten:** Take one piece and flatten it slightly with your hands or a rolling pin.\\n- **Roll:** Using a pasta machine or a rolling pin, roll the dough out to your desired thickness (usually about 1/16 inch for thin pasta). If using a pasta machine, start with the widest setting and gradually move to thinner settings.\\n\\n#### 4. Cut the Pasta:\\n- **Shape:** Once rolled out, you can cut the pasta into your desired shape (tagliatelle, fettuccine, lasagna sheets, etc.). Use a sharp knife or a pasta cutter for even shapes.\\n- **Dust:** Dust the cut pasta with a little flour to prevent it from sticking together.\\n\\n#### 5. Cook the Pasta:\\n- **Boil Water:** Bring a large pot of salted water to a boil.\\n- **Cook:** Add the fresh pasta and cook for 2-4 minutes, depending on the thickness. Fresh pasta cooks much faster than dried pasta.\\n- **Taste:** Taste a piece to check for doneness.\\n\\n#### 6. Serve:\\n- Drain the pasta and toss it with your favorite sauce, olive oil, or simply with butter and cheese. Enjoy your homemade Italian pasta!\\n\\n### Tips:\\n- Experiment with different types of flour, such as semolina or whole wheat, for different textures and flavors.\\n- You can also add ingredients like spinach or beet puree to the dough for colored pasta.\\n- Fresh pasta can be stored in the refrigerator for a day or two or frozen for longer storage.\\n\\nEnjoy your pasta-making adventure!'"
      ]
     },
     "execution_count": 24,
     "metadata": {},
     "output_type": "execute_result"
    }
   ],
   "source": [
    "from langchain.chat_models import ChatOpenAI\n",
    "from langchain.callbacks import StreamingStdOutCallbackHandler\n",
    "from langchain.globals import set_llm_cache, set_debug\n",
    "from langchain.cache import InMemoryCache, SQLiteCache\n",
    "\n",
    "# set_llm_cache(InMemoryCache())\n",
    "set_llm_cache(SQLiteCache(\"cache.db\"))\n",
    "set_debug(True)\n",
    "\n",
    "chat = ChatOpenAI(\n",
    "  model=\"gpt-4o-mini\",\n",
    "  temperature=0.1,\n",
    "  # streaming=True,\n",
    "  # callbacks=[\n",
    "  #   StreamingStdOutCallbackHandler(),\n",
    "  # ]\n",
    ")\n",
    "\n",
    "\n",
    "chat.predict(\"How do you make italian pasta\")"
   ]
  },
  {
   "cell_type": "code",
   "execution_count": 25,
   "id": "025f5bd2",
   "metadata": {},
   "outputs": [
    {
     "name": "stdout",
     "output_type": "stream",
     "text": [
      "\u001b[32;1m\u001b[1;3m[llm/start]\u001b[0m \u001b[1m[llm:ChatOpenAI] Entering LLM run with input:\n",
      "\u001b[0m{\n",
      "  \"prompts\": [\n",
      "    \"Human: How do you make italian pasta\"\n",
      "  ]\n",
      "}\n",
      "\u001b[36;1m\u001b[1;3m[llm/end]\u001b[0m \u001b[1m[llm:ChatOpenAI] [2ms] Exiting LLM run with output:\n",
      "\u001b[0m{\n",
      "  \"generations\": [\n",
      "    [\n",
      "      {\n",
      "        \"text\": \"Making Italian pasta from scratch is a rewarding process! Here’s a simple recipe for fresh pasta:\\n\\n### Ingredients:\\n- 2 cups all-purpose flour (or \\\"00\\\" flour for a more authentic texture)\\n- 3 large eggs\\n- A pinch of salt\\n- A little water (if needed)\\n\\n### Instructions:\\n\\n#### 1. Prepare the Dough:\\n- **Make a Flour Well:** On a clean surface or in a large bowl, mound the flour and create a well in the center.\\n- **Add Eggs:** Crack the eggs into the well and add a pinch of salt.\\n- **Mix:** Using a fork, beat the eggs gently, gradually incorporating the flour from the edges of the well until the mixture is too stiff to mix with a fork.\\n\\n#### 2. Knead the Dough:\\n- **Bring Together:** Use your hands to bring the dough together into a ball.\\n- **Knead:** Knead the dough for about 8-10 minutes until it is smooth and elastic. If the dough is too dry, add a little water; if it’s too sticky, sprinkle with a bit more flour.\\n- **Rest:** Wrap the dough in plastic wrap or cover it with a clean kitchen towel and let it rest for at least 30 minutes at room temperature. This allows the gluten to relax.\\n\\n#### 3. Roll Out the Dough:\\n- **Divide:** Cut the dough into four pieces to make it easier to work with.\\n- **Flatten:** Take one piece and flatten it slightly with your hands or a rolling pin.\\n- **Roll:** Using a pasta machine or a rolling pin, roll the dough out to your desired thickness (usually about 1/16 inch for thin pasta). If using a pasta machine, start with the widest setting and gradually move to thinner settings.\\n\\n#### 4. Cut the Pasta:\\n- **Shape:** Once rolled out, you can cut the pasta into your desired shape (tagliatelle, fettuccine, lasagna sheets, etc.). Use a sharp knife or a pasta cutter for even shapes.\\n- **Dust:** Dust the cut pasta with a little flour to prevent it from sticking together.\\n\\n#### 5. Cook the Pasta:\\n- **Boil Water:** Bring a large pot of salted water to a boil.\\n- **Cook:** Add the fresh pasta and cook for 2-4 minutes, depending on the thickness. Fresh pasta cooks much faster than dried pasta.\\n- **Taste:** Taste a piece to check for doneness.\\n\\n#### 6. Serve:\\n- Drain the pasta and toss it with your favorite sauce, olive oil, or simply with butter and cheese. Enjoy your homemade Italian pasta!\\n\\n### Tips:\\n- Experiment with different types of flour, such as semolina or whole wheat, for different textures and flavors.\\n- You can also add ingredients like spinach or beet puree to the dough for colored pasta.\\n- Fresh pasta can be stored in the refrigerator for a day or two or frozen for longer storage.\\n\\nEnjoy your pasta-making adventure!\",\n",
      "        \"generation_info\": {\n",
      "          \"finish_reason\": \"stop\",\n",
      "          \"logprobs\": null\n",
      "        },\n",
      "        \"type\": \"ChatGeneration\",\n",
      "        \"message\": {\n",
      "          \"lc\": 1,\n",
      "          \"type\": \"constructor\",\n",
      "          \"id\": [\n",
      "            \"langchain\",\n",
      "            \"schema\",\n",
      "            \"messages\",\n",
      "            \"AIMessage\"\n",
      "          ],\n",
      "          \"kwargs\": {\n",
      "            \"content\": \"Making Italian pasta from scratch is a rewarding process! Here’s a simple recipe for fresh pasta:\\n\\n### Ingredients:\\n- 2 cups all-purpose flour (or \\\"00\\\" flour for a more authentic texture)\\n- 3 large eggs\\n- A pinch of salt\\n- A little water (if needed)\\n\\n### Instructions:\\n\\n#### 1. Prepare the Dough:\\n- **Make a Flour Well:** On a clean surface or in a large bowl, mound the flour and create a well in the center.\\n- **Add Eggs:** Crack the eggs into the well and add a pinch of salt.\\n- **Mix:** Using a fork, beat the eggs gently, gradually incorporating the flour from the edges of the well until the mixture is too stiff to mix with a fork.\\n\\n#### 2. Knead the Dough:\\n- **Bring Together:** Use your hands to bring the dough together into a ball.\\n- **Knead:** Knead the dough for about 8-10 minutes until it is smooth and elastic. If the dough is too dry, add a little water; if it’s too sticky, sprinkle with a bit more flour.\\n- **Rest:** Wrap the dough in plastic wrap or cover it with a clean kitchen towel and let it rest for at least 30 minutes at room temperature. This allows the gluten to relax.\\n\\n#### 3. Roll Out the Dough:\\n- **Divide:** Cut the dough into four pieces to make it easier to work with.\\n- **Flatten:** Take one piece and flatten it slightly with your hands or a rolling pin.\\n- **Roll:** Using a pasta machine or a rolling pin, roll the dough out to your desired thickness (usually about 1/16 inch for thin pasta). If using a pasta machine, start with the widest setting and gradually move to thinner settings.\\n\\n#### 4. Cut the Pasta:\\n- **Shape:** Once rolled out, you can cut the pasta into your desired shape (tagliatelle, fettuccine, lasagna sheets, etc.). Use a sharp knife or a pasta cutter for even shapes.\\n- **Dust:** Dust the cut pasta with a little flour to prevent it from sticking together.\\n\\n#### 5. Cook the Pasta:\\n- **Boil Water:** Bring a large pot of salted water to a boil.\\n- **Cook:** Add the fresh pasta and cook for 2-4 minutes, depending on the thickness. Fresh pasta cooks much faster than dried pasta.\\n- **Taste:** Taste a piece to check for doneness.\\n\\n#### 6. Serve:\\n- Drain the pasta and toss it with your favorite sauce, olive oil, or simply with butter and cheese. Enjoy your homemade Italian pasta!\\n\\n### Tips:\\n- Experiment with different types of flour, such as semolina or whole wheat, for different textures and flavors.\\n- You can also add ingredients like spinach or beet puree to the dough for colored pasta.\\n- Fresh pasta can be stored in the refrigerator for a day or two or frozen for longer storage.\\n\\nEnjoy your pasta-making adventure!\",\n",
      "            \"response_metadata\": {\n",
      "              \"token_usage\": {\n",
      "                \"completion_tokens\": 609,\n",
      "                \"prompt_tokens\": 13,\n",
      "                \"total_tokens\": 622,\n",
      "                \"completion_tokens_details\": {\n",
      "                  \"accepted_prediction_tokens\": 0,\n",
      "                  \"audio_tokens\": 0,\n",
      "                  \"reasoning_tokens\": 0,\n",
      "                  \"rejected_prediction_tokens\": 0\n",
      "                },\n",
      "                \"prompt_tokens_details\": {\n",
      "                  \"audio_tokens\": 0,\n",
      "                  \"cached_tokens\": 0\n",
      "                }\n",
      "              },\n",
      "              \"model_name\": \"gpt-4o-mini\",\n",
      "              \"system_fingerprint\": \"fp_560af6e559\",\n",
      "              \"finish_reason\": \"stop\",\n",
      "              \"logprobs\": null\n",
      "            },\n",
      "            \"type\": \"ai\",\n",
      "            \"id\": \"run--e7eea355-653b-44a0-a104-f3fb7326a1df-0\",\n",
      "            \"usage_metadata\": {\n",
      "              \"total_cost\": 0\n",
      "            },\n",
      "            \"tool_calls\": [],\n",
      "            \"invalid_tool_calls\": []\n",
      "          }\n",
      "        }\n",
      "      }\n",
      "    ]\n",
      "  ],\n",
      "  \"llm_output\": null,\n",
      "  \"run\": null,\n",
      "  \"type\": \"LLMResult\"\n",
      "}\n"
     ]
    },
    {
     "data": {
      "text/plain": [
       "'Making Italian pasta from scratch is a rewarding process! Here’s a simple recipe for fresh pasta:\\n\\n### Ingredients:\\n- 2 cups all-purpose flour (or \"00\" flour for a more authentic texture)\\n- 3 large eggs\\n- A pinch of salt\\n- A little water (if needed)\\n\\n### Instructions:\\n\\n#### 1. Prepare the Dough:\\n- **Make a Flour Well:** On a clean surface or in a large bowl, mound the flour and create a well in the center.\\n- **Add Eggs:** Crack the eggs into the well and add a pinch of salt.\\n- **Mix:** Using a fork, beat the eggs gently, gradually incorporating the flour from the edges of the well until the mixture is too stiff to mix with a fork.\\n\\n#### 2. Knead the Dough:\\n- **Bring Together:** Use your hands to bring the dough together into a ball.\\n- **Knead:** Knead the dough for about 8-10 minutes until it is smooth and elastic. If the dough is too dry, add a little water; if it’s too sticky, sprinkle with a bit more flour.\\n- **Rest:** Wrap the dough in plastic wrap or cover it with a clean kitchen towel and let it rest for at least 30 minutes at room temperature. This allows the gluten to relax.\\n\\n#### 3. Roll Out the Dough:\\n- **Divide:** Cut the dough into four pieces to make it easier to work with.\\n- **Flatten:** Take one piece and flatten it slightly with your hands or a rolling pin.\\n- **Roll:** Using a pasta machine or a rolling pin, roll the dough out to your desired thickness (usually about 1/16 inch for thin pasta). If using a pasta machine, start with the widest setting and gradually move to thinner settings.\\n\\n#### 4. Cut the Pasta:\\n- **Shape:** Once rolled out, you can cut the pasta into your desired shape (tagliatelle, fettuccine, lasagna sheets, etc.). Use a sharp knife or a pasta cutter for even shapes.\\n- **Dust:** Dust the cut pasta with a little flour to prevent it from sticking together.\\n\\n#### 5. Cook the Pasta:\\n- **Boil Water:** Bring a large pot of salted water to a boil.\\n- **Cook:** Add the fresh pasta and cook for 2-4 minutes, depending on the thickness. Fresh pasta cooks much faster than dried pasta.\\n- **Taste:** Taste a piece to check for doneness.\\n\\n#### 6. Serve:\\n- Drain the pasta and toss it with your favorite sauce, olive oil, or simply with butter and cheese. Enjoy your homemade Italian pasta!\\n\\n### Tips:\\n- Experiment with different types of flour, such as semolina or whole wheat, for different textures and flavors.\\n- You can also add ingredients like spinach or beet puree to the dough for colored pasta.\\n- Fresh pasta can be stored in the refrigerator for a day or two or frozen for longer storage.\\n\\nEnjoy your pasta-making adventure!'"
      ]
     },
     "execution_count": 25,
     "metadata": {},
     "output_type": "execute_result"
    }
   ],
   "source": [
    "chat.predict(\"How do you make italian pasta\")"
   ]
  },
  {
   "cell_type": "markdown",
   "id": "3d6b6560",
   "metadata": {},
   "source": [
    "# Serialization\n"
   ]
  },
  {
   "cell_type": "code",
   "execution_count": 26,
   "id": "44af3625",
   "metadata": {},
   "outputs": [
    {
     "name": "stdout",
     "output_type": "stream",
     "text": [
      "\u001b[32;1m\u001b[1;3m[llm/start]\u001b[0m \u001b[1m[llm:ChatOpenAI] Entering LLM run with input:\n",
      "\u001b[0m{\n",
      "  \"prompts\": [\n",
      "    \"Human: What is the recipe for soju\"\n",
      "  ]\n",
      "}\n",
      "\u001b[36;1m\u001b[1;3m[llm/end]\u001b[0m \u001b[1m[llm:ChatOpenAI] [9.64s] Exiting LLM run with output:\n",
      "\u001b[0m{\n",
      "  \"generations\": [\n",
      "    [\n",
      "      {\n",
      "        \"text\": \"Soju is a traditional Korean distilled spirit, typically made from grains or starches. The exact recipe can vary, but here’s a basic overview of how soju is traditionally made:\\n\\n### Ingredients:\\n1. **Base Ingredient**: Commonly rice, barley, wheat, or sweet potatoes.\\n2. **Water**: Clean, filtered water is essential.\\n3. **Yeast**: For fermentation.\\n4. **Nuruk**: A traditional Korean fermentation starter made from wheat, barley, or rice that contains natural enzymes and yeast.\\n\\n### Basic Steps to Make Soju:\\n\\n1. **Preparation of Ingredients**:\\n   - If using grains, wash and soak them in water for several hours. Then, steam or cook them until they are soft.\\n\\n2. **Fermentation**:\\n   - Mix the cooked grains with water and add nuruk. This mixture is called \\\"mash.\\\" \\n   - Allow the mash to ferment in a warm place for several days to a week. During this time, the yeast will convert the sugars into alcohol.\\n\\n3. **Distillation**:\\n   - After fermentation, the mash is distilled. This can be done using a traditional pot still or a more modern distillation apparatus.\\n   - The distillation process separates the alcohol from the mash, resulting in a clear spirit.\\n\\n4. **Dilution**:\\n   - The distilled spirit is often too strong for consumption, so it is diluted with water to achieve the desired alcohol content, typically around 16-25% ABV.\\n\\n5. **Aging (Optional)**:\\n   - Some soju is aged in barrels or tanks to develop flavor, but many varieties are consumed fresh.\\n\\n6. **Bottling**:\\n   - Once the soju is ready, it is filtered and bottled for sale.\\n\\n### Note:\\nMaking soju at home can be complex and may require specific equipment and knowledge of fermentation and distillation processes. Additionally, distilling alcohol at home may be illegal in some regions, so it's important to check local laws and regulations before attempting to make soju or any other distilled spirit.\\n\\nIf you're interested in trying soju, it's widely available in stores and restaurants, especially those that specialize in Korean cuisine.\",\n",
      "        \"generation_info\": {\n",
      "          \"finish_reason\": \"stop\",\n",
      "          \"logprobs\": null\n",
      "        },\n",
      "        \"type\": \"ChatGeneration\",\n",
      "        \"message\": {\n",
      "          \"lc\": 1,\n",
      "          \"type\": \"constructor\",\n",
      "          \"id\": [\n",
      "            \"langchain\",\n",
      "            \"schema\",\n",
      "            \"messages\",\n",
      "            \"AIMessage\"\n",
      "          ],\n",
      "          \"kwargs\": {\n",
      "            \"content\": \"Soju is a traditional Korean distilled spirit, typically made from grains or starches. The exact recipe can vary, but here’s a basic overview of how soju is traditionally made:\\n\\n### Ingredients:\\n1. **Base Ingredient**: Commonly rice, barley, wheat, or sweet potatoes.\\n2. **Water**: Clean, filtered water is essential.\\n3. **Yeast**: For fermentation.\\n4. **Nuruk**: A traditional Korean fermentation starter made from wheat, barley, or rice that contains natural enzymes and yeast.\\n\\n### Basic Steps to Make Soju:\\n\\n1. **Preparation of Ingredients**:\\n   - If using grains, wash and soak them in water for several hours. Then, steam or cook them until they are soft.\\n\\n2. **Fermentation**:\\n   - Mix the cooked grains with water and add nuruk. This mixture is called \\\"mash.\\\" \\n   - Allow the mash to ferment in a warm place for several days to a week. During this time, the yeast will convert the sugars into alcohol.\\n\\n3. **Distillation**:\\n   - After fermentation, the mash is distilled. This can be done using a traditional pot still or a more modern distillation apparatus.\\n   - The distillation process separates the alcohol from the mash, resulting in a clear spirit.\\n\\n4. **Dilution**:\\n   - The distilled spirit is often too strong for consumption, so it is diluted with water to achieve the desired alcohol content, typically around 16-25% ABV.\\n\\n5. **Aging (Optional)**:\\n   - Some soju is aged in barrels or tanks to develop flavor, but many varieties are consumed fresh.\\n\\n6. **Bottling**:\\n   - Once the soju is ready, it is filtered and bottled for sale.\\n\\n### Note:\\nMaking soju at home can be complex and may require specific equipment and knowledge of fermentation and distillation processes. Additionally, distilling alcohol at home may be illegal in some regions, so it's important to check local laws and regulations before attempting to make soju or any other distilled spirit.\\n\\nIf you're interested in trying soju, it's widely available in stores and restaurants, especially those that specialize in Korean cuisine.\",\n",
      "            \"response_metadata\": {\n",
      "              \"token_usage\": {\n",
      "                \"completion_tokens\": 447,\n",
      "                \"prompt_tokens\": 14,\n",
      "                \"total_tokens\": 461,\n",
      "                \"completion_tokens_details\": {\n",
      "                  \"accepted_prediction_tokens\": 0,\n",
      "                  \"audio_tokens\": 0,\n",
      "                  \"reasoning_tokens\": 0,\n",
      "                  \"rejected_prediction_tokens\": 0\n",
      "                },\n",
      "                \"prompt_tokens_details\": {\n",
      "                  \"audio_tokens\": 0,\n",
      "                  \"cached_tokens\": 0\n",
      "                }\n",
      "              },\n",
      "              \"model_name\": \"gpt-4o-mini\",\n",
      "              \"system_fingerprint\": \"fp_560af6e559\",\n",
      "              \"finish_reason\": \"stop\",\n",
      "              \"logprobs\": null\n",
      "            },\n",
      "            \"type\": \"ai\",\n",
      "            \"id\": \"run--fc70af8f-6628-42b4-ac1b-756faaa71122-0\",\n",
      "            \"tool_calls\": [],\n",
      "            \"invalid_tool_calls\": []\n",
      "          }\n",
      "        }\n",
      "      }\n",
      "    ]\n",
      "  ],\n",
      "  \"llm_output\": {\n",
      "    \"token_usage\": {\n",
      "      \"completion_tokens\": 447,\n",
      "      \"prompt_tokens\": 14,\n",
      "      \"total_tokens\": 461,\n",
      "      \"completion_tokens_details\": {\n",
      "        \"accepted_prediction_tokens\": 0,\n",
      "        \"audio_tokens\": 0,\n",
      "        \"reasoning_tokens\": 0,\n",
      "        \"rejected_prediction_tokens\": 0\n",
      "      },\n",
      "      \"prompt_tokens_details\": {\n",
      "        \"audio_tokens\": 0,\n",
      "        \"cached_tokens\": 0\n",
      "      }\n",
      "    },\n",
      "    \"model_name\": \"gpt-4o-mini\",\n",
      "    \"system_fingerprint\": \"fp_560af6e559\"\n",
      "  },\n",
      "  \"run\": null,\n",
      "  \"type\": \"LLMResult\"\n",
      "}\n",
      "\u001b[32;1m\u001b[1;3m[llm/start]\u001b[0m \u001b[1m[llm:ChatOpenAI] Entering LLM run with input:\n",
      "\u001b[0m{\n",
      "  \"prompts\": [\n",
      "    \"Human: What is the recipe for bread\"\n",
      "  ]\n",
      "}\n",
      "\u001b[36;1m\u001b[1;3m[llm/end]\u001b[0m \u001b[1m[llm:ChatOpenAI] [9.89s] Exiting LLM run with output:\n",
      "\u001b[0m{\n",
      "  \"generations\": [\n",
      "    [\n",
      "      {\n",
      "        \"text\": \"Here's a simple recipe for making basic homemade bread:\\n\\n### Ingredients:\\n- 4 cups all-purpose flour (plus extra for dusting)\\n- 2 teaspoons instant yeast (or active dry yeast)\\n- 2 teaspoons salt\\n- 1 tablespoon sugar (optional, for a slightly sweet flavor)\\n- 1 ½ cups warm water (about 110°F or 43°C)\\n- 2 tablespoons olive oil (optional, for added flavor and moisture)\\n\\n### Instructions:\\n\\n1. **Mix Dry Ingredients**: In a large mixing bowl, combine the flour, yeast, salt, and sugar (if using). Mix well.\\n\\n2. **Add Wet Ingredients**: Make a well in the center of the dry ingredients and pour in the warm water and olive oil. Stir with a wooden spoon or spatula until a shaggy dough forms.\\n\\n3. **Knead the Dough**: Transfer the dough to a floured surface. Knead the dough for about 8-10 minutes until it becomes smooth and elastic. If the dough is too sticky, sprinkle a little more flour as needed.\\n\\n4. **First Rise**: Place the kneaded dough in a lightly greased bowl, cover it with a clean kitchen towel or plastic wrap, and let it rise in a warm place for about 1-2 hours, or until it has doubled in size.\\n\\n5. **Shape the Dough**: Once the dough has risen, punch it down to release the air. Turn it out onto a floured surface and shape it into a loaf or divide it into smaller portions for rolls.\\n\\n6. **Second Rise**: Place the shaped dough into a greased loaf pan or on a baking sheet. Cover it again and let it rise for another 30-60 minutes, or until it has puffed up.\\n\\n7. **Preheat the Oven**: While the dough is rising, preheat your oven to 375°F (190°C).\\n\\n8. **Bake the Bread**: Once the dough has risen, bake it in the preheated oven for about 25-30 minutes, or until the bread is golden brown and sounds hollow when tapped on the bottom.\\n\\n9. **Cool**: Remove the bread from the oven and let it cool in the pan for a few minutes before transferring it to a wire rack to cool completely.\\n\\n10. **Enjoy**: Slice and enjoy your homemade bread with butter, jam, or any spread of your choice!\\n\\n### Tips:\\n- For added flavor, you can mix in herbs, garlic, or cheese into the dough.\\n- If using active dry yeast, you may want to dissolve it in the warm water first and let it sit for about 5-10 minutes until it becomes frothy before adding it to the flour.\\n- Store any leftover bread in an airtight container at room temperature for a few days or freeze it for longer storage.\\n\\nEnjoy your baking!\",\n",
      "        \"generation_info\": {\n",
      "          \"finish_reason\": \"stop\",\n",
      "          \"logprobs\": null\n",
      "        },\n",
      "        \"type\": \"ChatGeneration\",\n",
      "        \"message\": {\n",
      "          \"lc\": 1,\n",
      "          \"type\": \"constructor\",\n",
      "          \"id\": [\n",
      "            \"langchain\",\n",
      "            \"schema\",\n",
      "            \"messages\",\n",
      "            \"AIMessage\"\n",
      "          ],\n",
      "          \"kwargs\": {\n",
      "            \"content\": \"Here's a simple recipe for making basic homemade bread:\\n\\n### Ingredients:\\n- 4 cups all-purpose flour (plus extra for dusting)\\n- 2 teaspoons instant yeast (or active dry yeast)\\n- 2 teaspoons salt\\n- 1 tablespoon sugar (optional, for a slightly sweet flavor)\\n- 1 ½ cups warm water (about 110°F or 43°C)\\n- 2 tablespoons olive oil (optional, for added flavor and moisture)\\n\\n### Instructions:\\n\\n1. **Mix Dry Ingredients**: In a large mixing bowl, combine the flour, yeast, salt, and sugar (if using). Mix well.\\n\\n2. **Add Wet Ingredients**: Make a well in the center of the dry ingredients and pour in the warm water and olive oil. Stir with a wooden spoon or spatula until a shaggy dough forms.\\n\\n3. **Knead the Dough**: Transfer the dough to a floured surface. Knead the dough for about 8-10 minutes until it becomes smooth and elastic. If the dough is too sticky, sprinkle a little more flour as needed.\\n\\n4. **First Rise**: Place the kneaded dough in a lightly greased bowl, cover it with a clean kitchen towel or plastic wrap, and let it rise in a warm place for about 1-2 hours, or until it has doubled in size.\\n\\n5. **Shape the Dough**: Once the dough has risen, punch it down to release the air. Turn it out onto a floured surface and shape it into a loaf or divide it into smaller portions for rolls.\\n\\n6. **Second Rise**: Place the shaped dough into a greased loaf pan or on a baking sheet. Cover it again and let it rise for another 30-60 minutes, or until it has puffed up.\\n\\n7. **Preheat the Oven**: While the dough is rising, preheat your oven to 375°F (190°C).\\n\\n8. **Bake the Bread**: Once the dough has risen, bake it in the preheated oven for about 25-30 minutes, or until the bread is golden brown and sounds hollow when tapped on the bottom.\\n\\n9. **Cool**: Remove the bread from the oven and let it cool in the pan for a few minutes before transferring it to a wire rack to cool completely.\\n\\n10. **Enjoy**: Slice and enjoy your homemade bread with butter, jam, or any spread of your choice!\\n\\n### Tips:\\n- For added flavor, you can mix in herbs, garlic, or cheese into the dough.\\n- If using active dry yeast, you may want to dissolve it in the warm water first and let it sit for about 5-10 minutes until it becomes frothy before adding it to the flour.\\n- Store any leftover bread in an airtight container at room temperature for a few days or freeze it for longer storage.\\n\\nEnjoy your baking!\",\n",
      "            \"response_metadata\": {\n",
      "              \"token_usage\": {\n",
      "                \"completion_tokens\": 586,\n",
      "                \"prompt_tokens\": 13,\n",
      "                \"total_tokens\": 599,\n",
      "                \"completion_tokens_details\": {\n",
      "                  \"accepted_prediction_tokens\": 0,\n",
      "                  \"audio_tokens\": 0,\n",
      "                  \"reasoning_tokens\": 0,\n",
      "                  \"rejected_prediction_tokens\": 0\n",
      "                },\n",
      "                \"prompt_tokens_details\": {\n",
      "                  \"audio_tokens\": 0,\n",
      "                  \"cached_tokens\": 0\n",
      "                }\n",
      "              },\n",
      "              \"model_name\": \"gpt-4o-mini\",\n",
      "              \"system_fingerprint\": \"fp_51db84afab\",\n",
      "              \"finish_reason\": \"stop\",\n",
      "              \"logprobs\": null\n",
      "            },\n",
      "            \"type\": \"ai\",\n",
      "            \"id\": \"run--4acc55e3-26d6-422e-91ca-a37ab5fafe43-0\",\n",
      "            \"tool_calls\": [],\n",
      "            \"invalid_tool_calls\": []\n",
      "          }\n",
      "        }\n",
      "      }\n",
      "    ]\n",
      "  ],\n",
      "  \"llm_output\": {\n",
      "    \"token_usage\": {\n",
      "      \"completion_tokens\": 586,\n",
      "      \"prompt_tokens\": 13,\n",
      "      \"total_tokens\": 599,\n",
      "      \"completion_tokens_details\": {\n",
      "        \"accepted_prediction_tokens\": 0,\n",
      "        \"audio_tokens\": 0,\n",
      "        \"reasoning_tokens\": 0,\n",
      "        \"rejected_prediction_tokens\": 0\n",
      "      },\n",
      "      \"prompt_tokens_details\": {\n",
      "        \"audio_tokens\": 0,\n",
      "        \"cached_tokens\": 0\n",
      "      }\n",
      "    },\n",
      "    \"model_name\": \"gpt-4o-mini\",\n",
      "    \"system_fingerprint\": \"fp_51db84afab\"\n",
      "  },\n",
      "  \"run\": null,\n",
      "  \"type\": \"LLMResult\"\n",
      "}\n",
      "Tokens Used: 1060\n",
      "\tPrompt Tokens: 27\n",
      "\t\tPrompt Tokens Cached: 0\n",
      "\tCompletion Tokens: 1033\n",
      "\t\tReasoning Tokens: 0\n",
      "Successful Requests: 2\n",
      "Total Cost (USD): $0.0006238499999999999\n",
      "0.0006238499999999999\n",
      "1060\n",
      "27\n",
      "1033\n"
     ]
    }
   ],
   "source": [
    "from langchain.chat_models import ChatOpenAI\n",
    "from langchain.callbacks import get_openai_callback\n",
    "from langchain.globals import set_debug\n",
    "\n",
    "set_debug(True)\n",
    "\n",
    "chat = ChatOpenAI(\n",
    "  model=\"gpt-4o-mini\",\n",
    "  temperature=0.1,\n",
    ")\n",
    "\n",
    "with get_openai_callback() as usage:\n",
    "  a = chat.predict(\"What is the recipe for soju\")\n",
    "  b = chat.predict(\"What is the recipe for bread\")\n",
    "\n",
    "  # will be include usage that avobe on this line\n",
    "  print(usage)\n",
    "  print(usage.total_cost) # 전체 비용\n",
    "  print(usage.total_tokens) # 토큰 총합\n",
    "  print(usage.prompt_tokens) # 프롬프트에 사용된\n",
    "  print(usage.completion_tokens) # 모델이 쓴 토큰"
   ]
  },
  {
   "cell_type": "code",
   "execution_count": null,
   "id": "f93583a4",
   "metadata": {},
   "outputs": [],
   "source": [
    "# Legacy code\n",
    "\n",
    "from langchain_openai import ChatOpenAI\n",
    "from langchain_openai import OpenAI\n",
    "from langchain.llms.loading import load_llm\n",
    "\n",
    "# chat = OpenAI(\n",
    "#   temperature=0.1,\n",
    "#   max_tokens=450,\n",
    "#   model=\"gpt-4o-mini\"\n",
    "# )\n",
    "\n",
    "# chat.save(\"model.json\")\n",
    "\n",
    "chat = load_llm(\"model.json\")\n"
   ]
  },
  {
   "cell_type": "code",
   "execution_count": null,
   "id": "78e89fa0",
   "metadata": {},
   "outputs": [],
   "source": []
  },
  {
   "cell_type": "code",
   "execution_count": null,
   "id": "68a8c04a",
   "metadata": {},
   "outputs": [],
   "source": []
  },
  {
   "cell_type": "code",
   "execution_count": null,
   "id": "09433cf5",
   "metadata": {},
   "outputs": [],
   "source": []
  },
  {
   "cell_type": "code",
   "execution_count": null,
   "id": "2c81585a",
   "metadata": {},
   "outputs": [],
   "source": []
  },
  {
   "cell_type": "code",
   "execution_count": null,
   "id": "78d82a6e",
   "metadata": {},
   "outputs": [],
   "source": []
  }
 ],
 "metadata": {
  "kernelspec": {
   "display_name": "langchain-7day-challenge",
   "language": "python",
   "name": "python3"
  },
  "language_info": {
   "codemirror_mode": {
    "name": "ipython",
    "version": 3
   },
   "file_extension": ".py",
   "mimetype": "text/x-python",
   "name": "python",
   "nbconvert_exporter": "python",
   "pygments_lexer": "ipython3",
   "version": "3.13.7"
  }
 },
 "nbformat": 4,
 "nbformat_minor": 5
}
